{
 "cells": [
  {
   "cell_type": "code",
   "execution_count": null,
   "metadata": {},
   "outputs": [],
   "source": [
    "dictonary = {\n",
    "    health: 7,\n",
    "    speed: 5,\n",
    "    hunger: 2,\n",
    "}"
   ]
  }
 ],
 "metadata": {
  "kernelspec": {
   "display_name": "Python 3.10.8 ('mc')",
   "language": "python",
   "name": "python3"
  },
  "language_info": {
   "name": "python",
   "version": "3.10.8 (main, Nov  4 2022, 08:45:18) [Clang 12.0.0 ]"
  },
  "orig_nbformat": 4,
  "vscode": {
   "interpreter": {
    "hash": "42f229fde7f2db5184743c2515cef22a0abf50c7d23e006b5b86ffc9c1bf2ee1"
   }
  }
 },
 "nbformat": 4,
 "nbformat_minor": 2
}
