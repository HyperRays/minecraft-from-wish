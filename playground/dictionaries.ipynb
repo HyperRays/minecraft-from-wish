{
 "cells": [
  {
   "cell_type": "code",
   "execution_count": null,
   "metadata": {},
   "outputs": [],
   "source": [
    "dictonary = {\n",
    "    health: 7,\n",
    "    speed: 5,\n",
    "    hunger: 2,\n",
    "}"
   ]
  }
 ],
 "metadata": {
  "language_info": {
   "name": "python"
  },
  "orig_nbformat": 4
 },
 "nbformat": 4,
 "nbformat_minor": 2
}
