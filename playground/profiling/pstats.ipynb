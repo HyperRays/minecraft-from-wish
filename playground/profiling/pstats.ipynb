{
 "cells": [
  {
   "cell_type": "code",
   "execution_count": 7,
   "metadata": {},
   "outputs": [
    {
     "name": "stdout",
     "output_type": "stream",
     "text": [
      "Sun Jan  1 11:10:35 2023    game_profile_1672567819.cprofile\n",
      "\n",
      "         19492510 function calls (19483290 primitive calls) in 14.874 seconds\n",
      "\n",
      "   Ordered by: cumulative time\n",
      "   List reduced from 2002 to 10 due to restriction <10>\n",
      "\n",
      "   ncalls  tottime  percall  cumtime  percall filename:lineno(function)\n",
      "    184/1    0.002    0.000   16.609   16.609 {built-in method builtins.exec}\n",
      "        1    0.001    0.001   16.609   16.609 main.py:1(<module>)\n",
      "        1    0.000    0.000   16.022   16.022 C:\\Users\\Soham Kuvalekar\\Documents\\programming\\minecraft-from-wish\\game-logic\\..\\graphics\\graphics_library.py:49(run)\n",
      "        1    0.000    0.000   16.020   16.020 C:\\Users\\Soham Kuvalekar\\.conda\\envs\\mc\\lib\\asyncio\\base_events.py:613(run_until_complete)\n",
      "        1    0.000    0.000   16.020   16.020 C:\\Users\\Soham Kuvalekar\\.conda\\envs\\mc\\lib\\asyncio\\windows_events.py:317(run_forever)\n",
      "        1    0.002    0.002   16.020   16.020 C:\\Users\\Soham Kuvalekar\\.conda\\envs\\mc\\lib\\asyncio\\base_events.py:589(run_forever)\n",
      "     3752    0.042    0.000   16.017    0.004 C:\\Users\\Soham Kuvalekar\\.conda\\envs\\mc\\lib\\asyncio\\base_events.py:1824(_run_once)\n",
      "    27689    0.017    0.000   15.939    0.001 C:\\Users\\Soham Kuvalekar\\.conda\\envs\\mc\\lib\\asyncio\\events.py:78(_run)\n",
      "    27689    0.031    0.000   15.922    0.001 {method 'run' of '_contextvars.Context' objects}\n",
      "     5492    0.577    0.000    8.707    0.002 C:\\Users\\Soham Kuvalekar\\Documents\\programming\\minecraft-from-wish\\game-logic\\chunks_module.py:45(update)\n",
      "\n",
      "\n"
     ]
    },
    {
     "data": {
      "text/plain": [
       "<pstats.Stats at 0x1b10be84640>"
      ]
     },
     "execution_count": 7,
     "metadata": {},
     "output_type": "execute_result"
    }
   ],
   "source": [
    "import pstats\n",
    "p = pstats.Stats(\"game_profile_1672567819.cprofile\")\n",
    "p.sort_stats('cumtime').print_stats(10)"
   ]
  },
  {
   "cell_type": "code",
   "execution_count": 8,
   "metadata": {},
   "outputs": [
    {
     "name": "stdout",
     "output_type": "stream",
     "text": [
      "Sun Jan  1 11:10:35 2023    game_profile_1672567819.cprofile\n",
      "\n",
      "         19492510 function calls (19483290 primitive calls) in 14.874 seconds\n",
      "\n",
      "   Ordered by: call count\n",
      "   List reduced from 2002 to 10 due to restriction <10>\n",
      "\n",
      "   ncalls  tottime  percall  cumtime  percall filename:lineno(function)\n",
      "  4264698    1.814    0.000    2.517    0.000 C:\\Users\\Soham Kuvalekar\\Documents\\programming\\minecraft-from-wish\\game-logic\\basic_units.py:14(__add__)\n",
      "  1417275    3.155    0.000    6.613    0.000 C:\\Users\\Soham Kuvalekar\\Documents\\programming\\minecraft-from-wish\\game-logic\\helper_functions.py:3(create_collider)\n",
      "  1406452    0.257    0.000    0.257    0.000 <string>:2(__eq__)\n",
      "  1104303    0.139    0.000    0.139    0.000 C:\\Users\\Soham Kuvalekar\\Documents\\programming\\minecraft-from-wish\\game-logic\\basic_units.py:45(into_tuple)\n",
      "  1104303    0.696    0.000    0.909    0.000 C:\\Users\\Soham Kuvalekar\\Documents\\programming\\minecraft-from-wish\\game-logic\\camera.py:12(screen_position)\n",
      "   857804    0.188    0.000    0.188    0.000 C:\\Users\\Soham Kuvalekar\\Documents\\programming\\minecraft-from-wish\\game-logic\\basic_units.py:30(dot)\n",
      "   792725    1.260    0.000    1.260    0.000 {method 'blit' of 'pygame.Surface' objects}\n",
      "   790725    0.154    0.000    0.154    0.000 C:\\Users\\Soham Kuvalekar\\Documents\\programming\\minecraft-from-wish\\game-logic\\chunk_manager.py:68(get_layer)\n",
      "   722940    0.272    0.000    0.272    0.000 {built-in method time.process_time_ns}\n",
      "   719616    0.515    0.000    3.864    0.000 C:\\Users\\Soham Kuvalekar\\Documents\\programming\\minecraft-from-wish\\game-logic\\blocks.py:192(update)\n",
      "\n",
      "\n",
      "<pstats.Stats object at 0x000001B10BE84640>\n"
     ]
    }
   ],
   "source": [
    "print(p.sort_stats('ncalls').print_stats(10))"
   ]
  }
 ],
 "metadata": {
  "kernelspec": {
   "display_name": "base",
   "language": "python",
   "name": "python3"
  },
  "language_info": {
   "codemirror_mode": {
    "name": "ipython",
    "version": 3
   },
   "file_extension": ".py",
   "mimetype": "text/x-python",
   "name": "python",
   "nbconvert_exporter": "python",
   "pygments_lexer": "ipython3",
   "version": "3.9.13"
  },
  "orig_nbformat": 4,
  "vscode": {
   "interpreter": {
    "hash": "ad2bdc8ecc057115af97d19610ffacc2b4e99fae6737bb82f5d7fb13d2f2c186"
   }
  }
 },
 "nbformat": 4,
 "nbformat_minor": 2
}
