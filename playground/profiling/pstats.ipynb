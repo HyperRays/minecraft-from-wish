{
 "cells": [
  {
   "cell_type": "code",
   "execution_count": 7,
   "metadata": {},
   "outputs": [
    {
     "name": "stdout",
     "output_type": "stream",
     "text": [
      "Sun Jan  1 12:47:51 2023    game_profile_1672573649.cprofile\n",
      "\n",
      "         25385504 function calls (25376283 primitive calls) in 19.288 seconds\n",
      "\n",
      "   Ordered by: internal time\n",
      "   List reduced from 2015 to 10 due to restriction <10>\n",
      "\n",
      "   ncalls  tottime  percall  cumtime  percall filename:lineno(function)\n",
      "  1272467    2.884    0.000    6.006    0.000 C:\\Users\\Soham Kuvalekar\\Documents\\programming\\minecraft-from-wish\\game-logic\\helper_functions.py:3(create_collider)\n",
      "  1088605    1.989    0.000    1.989    0.000 {method 'blit' of 'pygame.Surface' objects}\n",
      "  3829630    1.639    0.000    2.268    0.000 C:\\Users\\Soham Kuvalekar\\Documents\\programming\\minecraft-from-wish\\game-logic\\basic_units.py:14(__add__)\n",
      "   945664    1.499    0.000    4.392    0.000 C:\\Users\\Soham Kuvalekar\\Documents\\programming\\minecraft-from-wish\\game-logic\\blocks.py:175(render)\n",
      "  1121531    1.153    0.000    7.197    0.000 C:\\Users\\Soham Kuvalekar\\Documents\\programming\\minecraft-from-wish\\game-logic\\blocks.py:90(update)\n",
      "  1874188    1.146    0.000    1.514    0.000 C:\\Users\\Soham Kuvalekar\\Documents\\programming\\minecraft-from-wish\\game-logic\\camera.py:12(screen_position)\n",
      "     8615    0.945    0.000    5.916    0.001 C:\\Users\\Soham Kuvalekar\\Documents\\programming\\minecraft-from-wish\\game-logic\\chunks_module.py:50(render)\n",
      "     8631    0.868    0.000    9.438    0.001 C:\\Users\\Soham Kuvalekar\\Documents\\programming\\minecraft-from-wish\\game-logic\\chunks_module.py:45(update)\n",
      "   945664    0.587    0.000    0.942    0.000 C:\\Users\\Soham Kuvalekar\\Documents\\programming\\minecraft-from-wish\\game-logic\\basic_units.py:96(poll)\n",
      "   315509    0.517    0.000    1.036    0.000 C:\\Users\\Soham Kuvalekar\\Documents\\programming\\minecraft-from-wish\\game-logic\\shapes.py:46(furthest_in_dir)\n",
      "\n",
      "\n"
     ]
    },
    {
     "data": {
      "text/plain": [
       "<pstats.Stats at 0x25415b59b80>"
      ]
     },
     "execution_count": 7,
     "metadata": {},
     "output_type": "execute_result"
    }
   ],
   "source": [
    "import pstats\n",
    "p = pstats.Stats(\"game_profile_1672573649.cprofile\")\n",
    "p.sort_stats(pstats.SortKey.TIME).print_stats(10)"
   ]
  },
  {
   "cell_type": "code",
   "execution_count": 8,
   "metadata": {},
   "outputs": [
    {
     "name": "stdout",
     "output_type": "stream",
     "text": [
      "Sun Jan  1 12:47:51 2023    game_profile_1672573649.cprofile\n",
      "\n",
      "         25385504 function calls (25376283 primitive calls) in 19.288 seconds\n",
      "\n",
      "   Ordered by: call count\n",
      "   List reduced from 2015 to 10 due to restriction <10>\n",
      "\n",
      "   ncalls  tottime  percall  cumtime  percall filename:lineno(function)\n",
      "  3829630    1.639    0.000    2.268    0.000 C:\\Users\\Soham Kuvalekar\\Documents\\programming\\minecraft-from-wish\\game-logic\\basic_units.py:14(__add__)\n",
      "  1874188    0.232    0.000    0.232    0.000 C:\\Users\\Soham Kuvalekar\\Documents\\programming\\minecraft-from-wish\\game-logic\\basic_units.py:45(into_tuple)\n",
      "  1874188    1.146    0.000    1.514    0.000 C:\\Users\\Soham Kuvalekar\\Documents\\programming\\minecraft-from-wish\\game-logic\\camera.py:12(screen_position)\n",
      "  1403663    0.310    0.000    0.310    0.000 C:\\Users\\Soham Kuvalekar\\Documents\\programming\\minecraft-from-wish\\game-logic\\basic_units.py:30(dot)\n",
      "  1272467    2.884    0.000    6.006    0.000 C:\\Users\\Soham Kuvalekar\\Documents\\programming\\minecraft-from-wish\\game-logic\\helper_functions.py:3(create_collider)\n",
      "  1262134    0.239    0.000    0.239    0.000 <string>:2(__eq__)\n",
      "  1121531    1.153    0.000    7.197    0.000 C:\\Users\\Soham Kuvalekar\\Documents\\programming\\minecraft-from-wish\\game-logic\\blocks.py:90(update)\n",
      "  1120123    0.077    0.000    0.077    0.000 C:\\Users\\Soham Kuvalekar\\Documents\\programming\\minecraft-from-wish\\game-logic\\blocks.py:99(render)\n",
      "  1088605    1.989    0.000    1.989    0.000 {method 'blit' of 'pygame.Surface' objects}\n",
      "  1085317    0.209    0.000    0.209    0.000 C:\\Users\\Soham Kuvalekar\\Documents\\programming\\minecraft-from-wish\\game-logic\\chunk_manager.py:68(get_layer)\n",
      "\n",
      "\n",
      "<pstats.Stats object at 0x0000025415B59B80>\n"
     ]
    }
   ],
   "source": [
    "print(p.sort_stats('ncalls').print_stats(10))"
   ]
  }
 ],
 "metadata": {
  "kernelspec": {
   "display_name": "base",
   "language": "python",
   "name": "python3"
  },
  "language_info": {
   "codemirror_mode": {
    "name": "ipython",
    "version": 3
   },
   "file_extension": ".py",
   "mimetype": "text/x-python",
   "name": "python",
   "nbconvert_exporter": "python",
   "pygments_lexer": "ipython3",
   "version": "3.9.13"
  },
  "orig_nbformat": 4,
  "vscode": {
   "interpreter": {
    "hash": "ad2bdc8ecc057115af97d19610ffacc2b4e99fae6737bb82f5d7fb13d2f2c186"
   }
  }
 },
 "nbformat": 4,
 "nbformat_minor": 2
}
