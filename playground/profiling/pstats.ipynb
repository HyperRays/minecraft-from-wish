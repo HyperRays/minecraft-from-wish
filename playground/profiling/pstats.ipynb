{
 "cells": [
  {
   "cell_type": "code",
   "execution_count": 2,
   "metadata": {},
   "outputs": [
    {
     "name": "stdout",
     "output_type": "stream",
     "text": [
      "Wed Jan  4 10:25:09 2023    game_profile_1672824298.cprofile\n",
      "\n",
      "         4688423 function calls (4679197 primitive calls) in 9.353 seconds\n",
      "\n",
      "   Ordered by: cumulative time\n",
      "   List reduced from 2018 to 20 due to restriction <20>\n",
      "\n",
      "   ncalls  tottime  percall  cumtime  percall filename:lineno(function)\n",
      "    185/1    0.005    0.000   10.122   10.122 {built-in method builtins.exec}\n",
      "        1    0.001    0.001   10.122   10.122 main.py:1(<module>)\n",
      "        1    0.000    0.000    8.416    8.416 C:\\Users\\Soham Kuvalekar\\Documents\\programming\\minecraft-from-wish\\game-logic\\..\\graphics\\graphics_library.py:49(run)\n",
      "        1    0.000    0.000    8.414    8.414 C:\\Users\\Soham Kuvalekar\\.conda\\envs\\mc\\lib\\asyncio\\base_events.py:613(run_until_complete)\n",
      "        1    0.000    0.000    8.414    8.414 C:\\Users\\Soham Kuvalekar\\.conda\\envs\\mc\\lib\\asyncio\\windows_events.py:317(run_forever)\n",
      "        1    0.001    0.001    8.414    8.414 C:\\Users\\Soham Kuvalekar\\.conda\\envs\\mc\\lib\\asyncio\\base_events.py:589(run_forever)\n",
      "      918    0.040    0.000    8.412    0.009 C:\\Users\\Soham Kuvalekar\\.conda\\envs\\mc\\lib\\asyncio\\base_events.py:1824(_run_once)\n",
      "     7893    0.020    0.000    8.349    0.001 C:\\Users\\Soham Kuvalekar\\.conda\\envs\\mc\\lib\\asyncio\\events.py:78(_run)\n",
      "     7893    0.047    0.000    8.329    0.001 {method 'run' of '_contextvars.Context' objects}\n",
      "     1461    0.364    0.000    4.153    0.003 C:\\Users\\Soham Kuvalekar\\Documents\\programming\\minecraft-from-wish\\game-logic\\chunks_module.py:47(update)\n",
      "   262663    1.403    0.000    2.880    0.000 C:\\Users\\Soham Kuvalekar\\Documents\\programming\\minecraft-from-wish\\game-logic\\helper_functions.py:4(create_collider)\n",
      "     1445    0.360    0.000    2.364    0.002 C:\\Users\\Soham Kuvalekar\\Documents\\programming\\minecraft-from-wish\\game-logic\\chunks_module.py:52(render)\n",
      "   146407    0.340    0.000    2.126    0.000 C:\\Users\\Soham Kuvalekar\\Documents\\programming\\minecraft-from-wish\\game-logic\\blocks.py:94(update)\n",
      "    233/3    0.005    0.000    1.434    0.478 <frozen importlib._bootstrap>:1022(_find_and_load)\n",
      "    233/3    0.003    0.000    1.433    0.478 <frozen importlib._bootstrap>:987(_find_and_load_unlocked)\n",
      "    222/3    0.004    0.000    1.431    0.477 <frozen importlib._bootstrap>:664(_load_unlocked)\n",
      "    164/3    0.002    0.000    1.431    0.477 <frozen importlib._bootstrap_external>:877(exec_module)\n",
      "    311/4    0.001    0.000    1.414    0.353 <frozen importlib._bootstrap>:233(_call_with_frames_removed)\n",
      "        1    0.000    0.000    1.392    1.392 C:\\Users\\Soham Kuvalekar\\Documents\\programming\\minecraft-from-wish\\game-logic\\blocks.py:1(<module>)\n",
      "        1    0.000    0.000    1.362    1.362 C:\\Users\\Soham Kuvalekar\\Documents\\programming\\minecraft-from-wish\\game-logic\\startup.py:1(<module>)\n",
      "\n",
      "\n"
     ]
    },
    {
     "data": {
      "text/plain": [
       "<pstats.Stats at 0x28922b33460>"
      ]
     },
     "execution_count": 2,
     "metadata": {},
     "output_type": "execute_result"
    }
   ],
   "source": [
    "import pstats\n",
    "p = pstats.Stats(\"game_profile_1672824298.cprofile\")\n",
    "p.sort_stats(pstats.SortKey.CUMULATIVE).print_stats(20)"
   ]
  },
  {
   "cell_type": "code",
   "execution_count": 6,
   "metadata": {},
   "outputs": [
    {
     "name": "stdout",
     "output_type": "stream",
     "text": [
      "Tue Jan  3 22:23:04 2023    game_profile_1672780683.cprofile\n",
      "\n",
      "         28215504 function calls (28206277 primitive calls) in 29.964 seconds\n",
      "\n",
      "   Ordered by: call count\n",
      "   List reduced from 2018 to 20 due to restriction <20>\n",
      "\n",
      "   ncalls  tottime  percall  cumtime  percall filename:lineno(function)\n",
      "  6553620    3.696    0.000    5.128    0.000 C:\\Users\\Soham Kuvalekar\\Documents\\programming\\minecraft-from-wish\\game-logic\\basic_units.py:14(__add__)\n",
      "  2178005    6.634    0.000   13.703    0.000 C:\\Users\\Soham Kuvalekar\\Documents\\programming\\minecraft-from-wish\\game-logic\\helper_functions.py:3(create_collider)\n",
      "  2163726    0.535    0.000    0.535    0.000 <string>:2(__eq__)\n",
      "  1893951    0.300    0.000    0.300    0.000 C:\\Users\\Soham Kuvalekar\\Documents\\programming\\minecraft-from-wish\\game-logic\\basic_units.py:45(into_tuple)\n",
      "  1893951    1.454    0.000    1.925    0.000 C:\\Users\\Soham Kuvalekar\\Documents\\programming\\minecraft-from-wish\\game-logic\\camera.py:12(screen_position)\n",
      "  1817322    0.516    0.000    0.516    0.000 C:\\Users\\Soham Kuvalekar\\Documents\\programming\\minecraft-from-wish\\game-logic\\basic_units.py:30(dot)\n",
      "  1240418    2.305    0.000    2.305    0.000 {method 'blit' of 'pygame.Surface' objects}\n",
      "  1239473    1.502    0.000    9.656    0.000 C:\\Users\\Soham Kuvalekar\\Documents\\programming\\minecraft-from-wish\\game-logic\\blocks.py:53(update)\n",
      "  1237680    1.669    0.000    4.638    0.000 C:\\Users\\Soham Kuvalekar\\Documents\\programming\\minecraft-from-wish\\game-logic\\blocks.py:50(render)\n",
      "  1237680    0.322    0.000    0.322    0.000 C:\\Users\\Soham Kuvalekar\\Documents\\programming\\minecraft-from-wish\\game-logic\\chunk_manager.py:68(get_layer)\n",
      "   923471    1.230    0.000    7.751    0.000 C:\\Users\\Soham Kuvalekar\\Documents\\programming\\minecraft-from-wish\\game-logic\\blocks.py:95(update)\n",
      "   921168    0.084    0.000    0.084    0.000 C:\\Users\\Soham Kuvalekar\\Documents\\programming\\minecraft-from-wish\\game-logic\\blocks.py:104(render)\n",
      "   465899    0.316    0.000    0.433    0.000 C:\\Users\\Soham Kuvalekar\\Documents\\programming\\minecraft-from-wish\\game-logic\\basic_units.py:17(__sub__)\n",
      "443800/442955    0.056    0.000    0.056    0.000 {built-in method builtins.len}\n",
      "   413404    0.359    0.000    0.360    0.000 {built-in method builtins.max}\n",
      "   412854    0.846    0.000    1.719    0.000 C:\\Users\\Soham Kuvalekar\\Documents\\programming\\minecraft-from-wish\\game-logic\\shapes.py:46(furthest_in_dir)\n",
      "   311499    0.180    0.000    0.258    0.000 C:\\Users\\Soham Kuvalekar\\Documents\\programming\\minecraft-from-wish\\game-logic\\basic_units.py:26(__neg__)\n",
      "   306982    0.455    0.000    2.756    0.000 C:\\Users\\Soham Kuvalekar\\Documents\\programming\\minecraft-from-wish\\game-logic\\physics.py:62(mink_diff)\n",
      "   213761    0.032    0.000    0.032    0.000 {method 'append' of 'list' objects}\n",
      "   201110    0.033    0.000    0.033    0.000 C:\\Users\\Soham Kuvalekar\\Documents\\programming\\minecraft-from-wish\\game-logic\\shapes.py:71(furthest_in_dir)\n",
      "\n",
      "\n",
      "<pstats.Stats object at 0x000001C7AE5800A0>\n"
     ]
    }
   ],
   "source": [
    "print(p.sort_stats('ncalls').print_stats(20))"
   ]
  }
 ],
 "metadata": {
  "kernelspec": {
   "display_name": "base",
   "language": "python",
   "name": "python3"
  },
  "language_info": {
   "codemirror_mode": {
    "name": "ipython",
    "version": 3
   },
   "file_extension": ".py",
   "mimetype": "text/x-python",
   "name": "python",
   "nbconvert_exporter": "python",
   "pygments_lexer": "ipython3",
   "version": "3.9.13 (main, Aug 25 2022, 23:51:50) [MSC v.1916 64 bit (AMD64)]"
  },
  "orig_nbformat": 4,
  "vscode": {
   "interpreter": {
    "hash": "ad2bdc8ecc057115af97d19610ffacc2b4e99fae6737bb82f5d7fb13d2f2c186"
   }
  }
 },
 "nbformat": 4,
 "nbformat_minor": 2
}
