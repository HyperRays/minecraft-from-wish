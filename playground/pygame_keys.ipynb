{
 "cells": [
  {
   "cell_type": "code",
   "execution_count": 2,
   "metadata": {},
   "outputs": [],
   "source": [
    "# only lowercase\n",
    "# have to check for uppercase with shift and/or caps-lock\n",
    "alphabets = list(\"abcdefghijklmnopqrstuvwxyz\")\n",
    "numbers = list(\"1234567890\")\n",
    "special_keys = [\"escape\", \"tab\", \"left shift\", \"right shift\", \"return\", \"backspace\", \"space\", \"up\", \"down\", \"left\", \"right\"]\n",
    "punctuation = list(\".,;:-_?'!&/()=+|\\\"*#[]\\{\\}\\\\\")\n",
    "function = [\"F1\",\"F2\",\"F3\",\"F4\",\"F5\",\"F6\",\"F7\",\"F8\",\"F9\",\"F10\",\"F12\",\"F12\"]"
   ]
  },
  {
   "cell_type": "code",
   "execution_count": 3,
   "metadata": {},
   "outputs": [],
   "source": [
    "all_keys = alphabets+numbers+special_keys+punctuation+function"
   ]
  },
  {
   "cell_type": "code",
   "execution_count": 4,
   "metadata": {},
   "outputs": [
    {
     "name": "stdout",
     "output_type": "stream",
     "text": [
      "pygame 2.1.2 (SDL 2.0.18, Python 3.10.8)\n",
      "Hello from the pygame community. https://www.pygame.org/contribute.html\n",
      "97\n",
      "98\n",
      "99\n",
      "100\n",
      "101\n",
      "102\n",
      "103\n",
      "104\n",
      "105\n",
      "106\n",
      "107\n",
      "108\n",
      "109\n",
      "110\n",
      "111\n",
      "112\n",
      "113\n",
      "114\n",
      "115\n",
      "116\n",
      "117\n",
      "118\n",
      "119\n",
      "120\n",
      "121\n",
      "122\n",
      "49\n",
      "50\n",
      "51\n",
      "52\n",
      "53\n",
      "54\n",
      "55\n",
      "56\n",
      "57\n",
      "48\n",
      "27\n",
      "9\n",
      "1073742049\n",
      "1073742053\n",
      "13\n",
      "8\n",
      "32\n",
      "1073741906\n",
      "1073741905\n",
      "1073741904\n",
      "1073741903\n",
      "46\n",
      "44\n",
      "59\n",
      "58\n",
      "45\n",
      "95\n",
      "63\n",
      "39\n",
      "33\n",
      "38\n",
      "47\n",
      "40\n",
      "41\n",
      "61\n",
      "43\n",
      "124\n",
      "34\n",
      "42\n",
      "35\n",
      "91\n",
      "93\n",
      "92\n",
      "123\n",
      "92\n",
      "125\n",
      "92\n",
      "1073741882\n",
      "1073741883\n",
      "1073741884\n",
      "1073741885\n",
      "1073741886\n",
      "1073741887\n",
      "1073741888\n",
      "1073741889\n",
      "1073741890\n",
      "1073741891\n",
      "1073741893\n",
      "1073741893\n",
      "{'a': 97, 'b': 98, 'c': 99, 'd': 100, 'e': 101, 'f': 102, 'g': 103, 'h': 104, 'i': 105, 'j': 106, 'k': 107, 'l': 108, 'm': 109, 'n': 110, 'o': 111, 'p': 112, 'q': 113, 'r': 114, 's': 115, 't': 116, 'u': 117, 'v': 118, 'w': 119, 'x': 120, 'y': 121, 'z': 122, '1': 49, '2': 50, '3': 51, '4': 52, '5': 53, '6': 54, '7': 55, '8': 56, '9': 57, '0': 48, 'escape': 27, 'tab': 9, 'left shift': 1073742049, 'right shift': 1073742053, 'return': 13, 'backspace': 8, 'space': 32, 'up': 1073741906, 'down': 1073741905, 'left': 1073741904, 'right': 1073741903, '.': 46, ',': 44, ';': 59, ':': 58, '-': 45, '_': 95, '?': 63, \"'\": 39, '!': 33, '&': 38, '/': 47, '(': 40, ')': 41, '=': 61, '+': 43, '|': 124, '\"': 34, '*': 42, '#': 35, '[': 91, ']': 93, '\\\\': 92, '{': 123, '}': 125, 'F1': 1073741882, 'F2': 1073741883, 'F3': 1073741884, 'F4': 1073741885, 'F5': 1073741886, 'F6': 1073741887, 'F7': 1073741888, 'F8': 1073741889, 'F9': 1073741890, 'F10': 1073741891, 'F12': 1073741893}\n"
     ]
    }
   ],
   "source": [
    "import pygame\n",
    "for key in all_keys:\n",
    "    try:\n",
    "        print(pygame.key.key_code(key))\n",
    "    except:\n",
    "        print(key)\n",
    "print({key:pygame.key.key_code(key) for key in all_keys})"
   ]
  }
 ],
 "metadata": {
  "kernelspec": {
   "display_name": "mc",
   "language": "python",
   "name": "python3"
  },
  "language_info": {
   "codemirror_mode": {
    "name": "ipython",
    "version": 3
   },
   "file_extension": ".py",
   "mimetype": "text/x-python",
   "name": "python",
   "nbconvert_exporter": "python",
   "pygments_lexer": "ipython3",
   "version": "3.10.8"
  },
  "orig_nbformat": 4,
  "vscode": {
   "interpreter": {
    "hash": "fbb6c99d1367ccd6821aeeaed46b9aa18a458afe5760cc3d25864d2dda8b98fc"
   }
  }
 },
 "nbformat": 4,
 "nbformat_minor": 2
}
