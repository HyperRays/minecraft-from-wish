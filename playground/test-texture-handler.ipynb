{
 "cells": [
  {
   "attachments": {},
   "cell_type": "markdown",
   "metadata": {},
   "source": [
    "# Note to this file\n",
    "\n",
    "Since storing surfaces for each block in a stringbuffer and then into a file is inneficent, the class TextureHandler was created to load in/out images and provide them to the repective block as well has handle the saving and loading of the textures. All images are located under the assets folder."
   ]
  },
  {
   "cell_type": "code",
   "execution_count": 1,
   "metadata": {},
   "outputs": [],
   "source": [
    "import os\n",
    "import sys\n",
    "__file__ = os.path.abspath(\"/Users/sk/Documents/minecraft-from-wish/playground/test-texture-handler.ipynb\")\n",
    "sys.path.append(os.path.join(os.path.dirname(__file__),'../game-logic'))\n",
    "\n",
    "# import all the nessesary modules\n",
    "sys.path.append(os.path.join(os.path.dirname(__file__),'../graphics'))\n",
    "from prelude import *"
   ]
  },
  {
   "cell_type": "code",
   "execution_count": 2,
   "metadata": {},
   "outputs": [],
   "source": [
    "window.init(size=(1,1), title=\"text_tmp\")\n",
    "text = TextureHandler()"
   ]
  },
  {
   "cell_type": "code",
   "execution_count": 3,
   "metadata": {},
   "outputs": [],
   "source": [
    "text.load_texture(\"text1\", \"dirt_block.png\")\n",
    "text.load_texture(\"text2\", \"grass_block.png\")\n",
    "text.load_texture(\"text3\", \"ice_block.png\")\n",
    "text.load_texture(\"text4\", \"test_images/hi-res-stickman.png\")"
   ]
  },
  {
   "cell_type": "code",
   "execution_count": 4,
   "metadata": {},
   "outputs": [],
   "source": [
    "b = text.save()"
   ]
  },
  {
   "cell_type": "code",
   "execution_count": 5,
   "metadata": {},
   "outputs": [],
   "source": [
    "new = texture_handler.load(b)"
   ]
  },
  {
   "cell_type": "code",
   "execution_count": 7,
   "metadata": {},
   "outputs": [
    {
     "name": "stdout",
     "output_type": "stream",
     "text": [
      "<Surface(385x560x32 SW)>\n",
      "<Surface(385x560x32 SW)>\n"
     ]
    }
   ],
   "source": [
    "print(new.get_texture(\"text4\"))\n",
    "print(text.get_texture(\"text4\"))"
   ]
  },
  {
   "cell_type": "code",
   "execution_count": null,
   "metadata": {},
   "outputs": [],
   "source": []
  }
 ],
 "metadata": {
  "kernelspec": {
   "display_name": "mc",
   "language": "python",
   "name": "python3"
  },
  "language_info": {
   "codemirror_mode": {
    "name": "ipython",
    "version": 3
   },
   "file_extension": ".py",
   "mimetype": "text/x-python",
   "name": "python",
   "nbconvert_exporter": "python",
   "pygments_lexer": "ipython3",
   "version": "3.10.8 (main, Nov  4 2022, 08:45:18) [Clang 12.0.0 ]"
  },
  "orig_nbformat": 4,
  "vscode": {
   "interpreter": {
    "hash": "42f229fde7f2db5184743c2515cef22a0abf50c7d23e006b5b86ffc9c1bf2ee1"
   }
  }
 },
 "nbformat": 4,
 "nbformat_minor": 2
}
